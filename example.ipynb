{
  "cells": [
    {
      "cell_type": "markdown",
      "metadata": {
        "id": "view-in-github",
        "colab_type": "text"
      },
      "source": [
        "<a href=\"https://colab.research.google.com/github/lucianosilvasp/quantumchain/blob/main/example.ipynb\" target=\"_parent\"><img src=\"https://colab.research.google.com/assets/colab-badge.svg\" alt=\"Open In Colab\"/></a>"
      ]
    },
    {
      "cell_type": "markdown",
      "metadata": {
        "id": "3b-k-JbzmquX"
      },
      "source": [
        "# QUANTUM  BLOCKCHAIN\n",
        "\n",
        "We begin, as usual, importing the libraries and functions we will use."
      ]
    },
    {
      "cell_type": "code",
      "source": [
        "!git clone https://github.com/lucianosilvasp/quantumchain/"
      ],
      "metadata": {
        "id": "gK7jTqEknMZ5"
      },
      "execution_count": null,
      "outputs": []
    },
    {
      "cell_type": "code",
      "source": [
        "!pip install -r requirements.txt"
      ],
      "metadata": {
        "id": "CM5ge-UipL-9"
      },
      "execution_count": null,
      "outputs": []
    },
    {
      "cell_type": "code",
      "source": [
        "!pip install qiskit-aer==0.12.1"
      ],
      "metadata": {
        "id": "ZtRv0JrKvrC_"
      },
      "execution_count": null,
      "outputs": []
    },
    {
      "cell_type": "code",
      "execution_count": 1,
      "metadata": {
        "id": "0YfWFx47mquZ"
      },
      "outputs": [],
      "source": [
        "from os.path import join\n",
        "\n",
        "import pandas as pd\n",
        "import numpy as np\n",
        "\n",
        "from qiskit import IBMQ, Aer, transpile, assemble\n",
        "from qiskit import QuantumCircuit, QuantumRegister, ClassicalRegister, execute\n",
        "from qiskit.visualization import plot_bloch_vector\n",
        "\n",
        "from quantumchain import Node, Blockchain\n",
        "\n",
        "import warnings\n",
        "warnings.filterwarnings(\"ignore\")"
      ]
    },
    {
      "cell_type": "markdown",
      "metadata": {
        "id": "5bqIFlxemqua"
      },
      "source": [
        "To use a real Quantum Computer we need to load our IBM account"
      ]
    },
    {
      "cell_type": "code",
      "execution_count": null,
      "metadata": {
        "id": "OS97KoUnmqua"
      },
      "outputs": [],
      "source": [
        "# IBMQ.save_account('Add Token')\n",
        "# provider = IBMQ.enable_account('1605b7aa60a8259f4385b612193f560d6ff53d50ab1f962d7de8aebf518c479eed1526450dc556743b10968b87b3ff0c7b12ed45cb1ed3af93dab37823dc455e')\n",
        "# IBMQ.load_account()\n",
        "# IBMQ.disable_account()"
      ]
    },
    {
      "cell_type": "code",
      "execution_count": null,
      "metadata": {
        "id": "iz0Uvpdvmqua"
      },
      "outputs": [],
      "source": [
        "# device = provider.get_backend('ibmq_manila')"
      ]
    },
    {
      "cell_type": "markdown",
      "metadata": {
        "id": "bPuLlnHAmqua"
      },
      "source": [
        "# Creating a first blockchain\n",
        "\n",
        "With just one command, defining one python object, we can setup our first blockchain... indeed, a Quantum Blockchain! When the object initializes, nodes folders containing transactions and blocks are created from an initialize folder (also created from scratch). When creating a blockchain we can pass in some parameters, like number of nodes, number of transactions per block and the length of some random sequences used in the algorithm (created using entangled quantum circuits)."
      ]
    },
    {
      "cell_type": "code",
      "execution_count": 2,
      "metadata": {
        "id": "IhWjORvMmqub"
      },
      "outputs": [],
      "source": [
        "# Quantum Blockchain with 6 nodes, 3 transactions per block and length 10 of random sequences\n",
        "QuantumChain = Blockchain(6,4,10)"
      ]
    },
    {
      "cell_type": "markdown",
      "metadata": {
        "id": "PICK8eoDmqub"
      },
      "source": [
        "Adding transactions to the blockchain is easy. You can input them with arrays in the add_transactions method in the blockchain class."
      ]
    },
    {
      "cell_type": "code",
      "execution_count": 3,
      "metadata": {
        "id": "pLpCygILmqub"
      },
      "outputs": [],
      "source": [
        "# Let's add our first transactions to the blockchain\n",
        "\n",
        "sending_node = [1,2,2,3,5,0,2]\n",
        "coins_sent = [2,3,1,3,3,5,1]\n",
        "receiving_node = [0,1,3,4,3,1,1]\n",
        "\n",
        "QuantumChain.add_transactions(sending_node, coins_sent, receiving_node)"
      ]
    },
    {
      "cell_type": "markdown",
      "metadata": {
        "id": "Y0i29N0nmqub"
      },
      "source": [
        "We can visualize the transactions file, for example, node 3 transaction file. Note that the sending node appears with negative coins and the receiving node with positive coins."
      ]
    },
    {
      "cell_type": "code",
      "execution_count": null,
      "metadata": {
        "id": "N-k2o9B5mqub"
      },
      "outputs": [],
      "source": [
        "transaction = pd.read_csv(join('Data', 'Node3','transactions.csv'))\n",
        "transaction.head()"
      ]
    },
    {
      "cell_type": "markdown",
      "metadata": {
        "id": "HvdSx6I-mquc"
      },
      "source": [
        "If a node tries to send coins without enough funds in the wallet then an **_Exception Error_** is risen. The same thing happens if a node tries to send coins to itself."
      ]
    },
    {
      "cell_type": "code",
      "execution_count": 5,
      "metadata": {
        "id": "wpckfuvtmquc"
      },
      "outputs": [],
      "source": [
        "# QuantumChain.add_transactions([1], [1000], [2])  # Throws error: Not enough funds"
      ]
    },
    {
      "cell_type": "markdown",
      "metadata": {
        "id": "zVxLHRbVmquc"
      },
      "source": [
        "We can also visualize the data in the blockchain. For example, lets see block number 2 of node 4. We see that each block stores the old wallet data, a random number given by each node, the transactions, the payment for solving the previous block, the new wallet and the fidelity table."
      ]
    },
    {
      "cell_type": "code",
      "execution_count": null,
      "metadata": {
        "id": "RRHWROgimqud"
      },
      "outputs": [],
      "source": [
        "# node4 = Quantum_Blockchain.node_list[4]\n",
        "block = pd.read_csv(join('Data', 'Node4', 'Blocks', 'block2.csv'))\n",
        "block.head()"
      ]
    },
    {
      "cell_type": "markdown",
      "metadata": {
        "id": "IQcevSOemqud"
      },
      "source": [
        "When transactions feel a block, nodes create a hash for each block, which then is converted to a Quantum State that is teleported (using Quantum teleportation protocol) to the rest of the nodes. The nodes compare the fidelities of their block states and the states of the rest of the nodes. Let's visualize the Qubit obtained by hashing node4 second block."
      ]
    },
    {
      "cell_type": "code",
      "execution_count": null,
      "metadata": {
        "id": "YZRWsdc6mqud"
      },
      "outputs": [],
      "source": [
        "node4 = QuantumChain.node_list[4]\n",
        "block_path = join('Data', 'Node4','Blocks','block2.csv')\n",
        "\n",
        "hash_angles = node4.state_parameters(block_path)\n",
        "print('Hashed block state: ', hash_angles)"
      ]
    },
    {
      "cell_type": "markdown",
      "metadata": {
        "id": "fGEXjNFCmqud"
      },
      "source": [
        "Because this is a Hash, you should verify that everytime it's called, it retrieves the same angles (for the same document). Let's now represent it in Bloch Sphere:"
      ]
    },
    {
      "cell_type": "code",
      "execution_count": null,
      "metadata": {
        "id": "-ZaxzwbKmque"
      },
      "outputs": [],
      "source": [
        "# We add last coordinate (radial) as 1\n",
        "qubit_vector = hash_angles + [1]\n",
        "plot_bloch_vector(qubit_vector)"
      ]
    },
    {
      "cell_type": "markdown",
      "metadata": {
        "id": "b-L1pjoNmque"
      },
      "source": [
        "As we said, this state is then sent throgh a Quantum Channel using a Quantum Teleportation Protocol, which uses entangled states to share a Qubit. This is done with the method _send_states_."
      ]
    },
    {
      "cell_type": "code",
      "execution_count": 8,
      "metadata": {
        "colab": {
          "base_uri": "https://localhost:8080/"
        },
        "id": "7GJeOjtFmque",
        "outputId": "b0138373-4c51-4aeb-aeaa-9f49e9026879"
      },
      "outputs": [
        {
          "output_type": "execute_result",
          "data": {
            "text/plain": [
              "[(0.4314648773759555+0j), (-0.7023077370852663+0.5662171862643558j)]"
            ]
          },
          "metadata": {},
          "execution_count": 8
        }
      ],
      "source": [
        "QuantumChain.send_states(hash_angles)"
      ]
    },
    {
      "cell_type": "markdown",
      "metadata": {
        "id": "1Kpn5_t-mque"
      },
      "source": [
        "Which is the same as the input vector. This can be verify builing the circuit that rotates $|0\\rangle$ by angles $\\theta$ and $\\phi$ in hash_angles"
      ]
    },
    {
      "cell_type": "code",
      "execution_count": null,
      "metadata": {
        "id": "JJ5W2f-Ymque"
      },
      "outputs": [],
      "source": [
        "# Circuit to rotate |0>\n",
        "state_circ = QuantumCircuit(1)\n",
        "state_circ.u(hash_angles[0], hash_angles[1],0,0)\n",
        "\n",
        "state_circ.draw()"
      ]
    },
    {
      "cell_type": "code",
      "execution_count": null,
      "metadata": {
        "id": "ysGIbE00mquf"
      },
      "outputs": [],
      "source": [
        "# Get final state after passing |0> throught the circuit\n",
        "\n",
        "backend = Aer.get_backend('qasm_simulator')\n",
        "state_circ.save_statevector()\n",
        "qobj = assemble(state_circ)     # Create a Qobj from the circuit for the simulator to run\n",
        "\n",
        "result = backend.run(qobj).result()\n",
        "result.get_statevector()"
      ]
    },
    {
      "cell_type": "markdown",
      "metadata": {
        "id": "mNAfl3yNmquf"
      },
      "source": [
        "Once the states are sent, each node calculates the fidelities. They should all agree in the fidelities table! We can visualize the last fidelity table obtained by node 0."
      ]
    },
    {
      "cell_type": "code",
      "execution_count": null,
      "metadata": {
        "id": "Jme0Chnomquf"
      },
      "outputs": [],
      "source": [
        "fidelity = pd.read_csv(join('Data', 'Node0','fidelity.csv'))\n",
        "fidelity.head()"
      ]
    },
    {
      "cell_type": "markdown",
      "metadata": {
        "id": "eYJ9Rvi3mquf"
      },
      "source": [
        "Fidelities are obtained projecting the sent qubit to the node's own qubit state. Of course, in reality this is done with many copies of the same vectors and calculating the probabilities to measure one in the others basis. It is then important that we know how to build this states in a unique way. This is done with the _sha256_block_ and _state_parameters_ method of the node class."
      ]
    },
    {
      "cell_type": "markdown",
      "metadata": {
        "id": "Bkqb_dYdmquf"
      },
      "source": [
        "With the blockchain class, we can generate sequences of random numbers using a Quantum Circuit:"
      ]
    },
    {
      "cell_type": "code",
      "execution_count": null,
      "metadata": {
        "id": "TCyyjW0wmquf"
      },
      "outputs": [],
      "source": [
        "QuantumChain.random_numbers()"
      ]
    },
    {
      "cell_type": "markdown",
      "metadata": {
        "id": "LQ8Anwh0mqug"
      },
      "source": [
        "This is done using the following circuit and measuring multiple times in each qubit, in order to obtain a sequence of (in this case) 6 random numbers of 10 digits (measuring 10 times)"
      ]
    },
    {
      "cell_type": "markdown",
      "metadata": {
        "id": "zFI1nIxFmqug"
      },
      "source": [
        "## Play with the blockchain!\n",
        "\n",
        "Once we have seen the basics of this blockchain, we invite you to investigate the functions and discover by yourself how it works!"
      ]
    },
    {
      "cell_type": "code",
      "execution_count": null,
      "metadata": {
        "id": "qpxZMeaKmqug"
      },
      "outputs": [],
      "source": [
        "# Your code"
      ]
    }
  ],
  "metadata": {
    "kernelspec": {
      "display_name": "Python 3.10.4 ('QC_env')",
      "language": "python",
      "name": "python3"
    },
    "language_info": {
      "codemirror_mode": {
        "name": "ipython",
        "version": 3
      },
      "file_extension": ".py",
      "mimetype": "text/x-python",
      "name": "python",
      "nbconvert_exporter": "python",
      "pygments_lexer": "ipython3",
      "version": "3.10.4"
    },
    "vscode": {
      "interpreter": {
        "hash": "a7013974fffeed3b051300295b1503215c2ff339c4a5745dabd6db85632ac1be"
      }
    },
    "colab": {
      "provenance": [],
      "include_colab_link": true
    }
  },
  "nbformat": 4,
  "nbformat_minor": 0
}